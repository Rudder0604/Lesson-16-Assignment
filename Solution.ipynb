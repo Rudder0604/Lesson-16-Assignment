{
 "cells": [
  {
   "cell_type": "markdown",
   "id": "0a20d6cf-da37-4b7c-852f-c6d26946151d",
   "metadata": {},
   "source": [
    "## step 1: Identify source and destination\n",
    "\n",
    "- Source: Durban\n",
    "- Destination: Johannesburg\n",
    "\n",
    "## Step 2: Initialize\n",
    "\n",
    "- Set the cost of the source node (DBN) to 0.\n",
    "- Set the cost of all other nodes to infinity.\n",
    "- Mark all nodes as unvisited.\n",
    "\n",
    "## Step 3: Find Adjacent Nodes and Their Costs\n",
    "\n",
    "- For DBN: Adjacent nodes are PMB and RBY.\n",
    "- Calculate the costs:\n",
    "- Cost to PMB = Cost of DBN + Distance from DBN to PMB = 0 + 89 = 89\n",
    "- Cost to RBY = Cost of DBN + Distance from DBN to RBY = 0 + 112 = 112\n",
    "\n",
    "## Step 4: Select the Minimum Cost Node\n",
    "\n",
    "- The minimum cost between {89 (PMB), 112 (RBY)} is 89 (PMB).\n",
    "- Mark DBN as visited.\n",
    "\n",
    "## Step 5: Repeat for Next Node (PMB)\n",
    "\n",
    "- Adjacent nodes of PMB: RBY and HMT.\n",
    "- Calculate the costs:\n",
    "- Cost to RBY = Cost of PMB + Distance from PMB to RBY = 89 + 41 = 130\n",
    "- Cost to HMT = Cost of PMB + Distance from PMB to HMT = 89 + 210 = 299\n",
    "\n",
    "## Step 6: Select the Minimum Cost Node\n",
    "\n",
    "- The minimum cost between {130 (RBY), 299 (HMT)} is 130 (RBY).\n",
    "- Mark PMB as visited.\n",
    "\n",
    "## Step 7: Repeat for Next Node (RBY)\n",
    "\n",
    "- Adjacent nodes of RBY: HMT and VRT.\n",
    "- Calculate the costs:\n",
    "- Cost to HMT = Cost of RBY + Distance from RBY to HMT = 112 + 100 = 212\n",
    "- Cost to VRT = Cost of RBY + Distance from RBY to VRT = 112 + 106 = 218\n",
    "\n",
    "## Step 8: Select the Minimum Cost Node\n",
    "\n",
    "- The minimum cost between {212 (HMT), 218 (VRT)} is 212 (HMT).\n",
    "- Mark RBY as visited.\n",
    "\n",
    "## Step 9: Repeat for Next Node (HMT)\n",
    "\n",
    "- Adjacent nodes of HMT: JHB.\n",
    "- Calculate the costs:\n",
    "- Cost to JHB = Cost of HMT + Distance from HMT to JHB = 212 + 70 = 282\n",
    "\n",
    "## Step 10: Select the Minimum Cost Node\n",
    "\n",
    "- The minimum cost to reach JHB is 282.\n",
    "- Mark HMT as visited and the algorithm ends as we have reached our destination.\n",
    "\n",
    "\n",
    "\n",
    "\n"
   ]
  },
  {
   "cell_type": "code",
   "execution_count": 1,
   "id": "a2591233-37af-42aa-b04f-9a05992cbd84",
   "metadata": {},
   "outputs": [
    {
     "name": "stdout",
     "output_type": "stream",
     "text": [
      "The shortest path from DBN to JHB is: DBN -> RBY -> HMT -> JHB with a cost of 282\n"
     ]
    }
   ],
   "source": [
    "import heapq\n",
    "\n",
    "def dijkstra(graph, start, end):\n",
    "    queue = []\n",
    "    heapq.heappush(queue, (0, start))\n",
    "    distances = {node: float('infinity') for node in graph}\n",
    "    distances[start] = 0\n",
    "    shortest_path = {}\n",
    "\n",
    "    while queue:\n",
    "        current_distance, current_node = heapq.heappop(queue)\n",
    "\n",
    "        if current_distance > distances[current_node]:\n",
    "            continue\n",
    "\n",
    "        for neighbor, weight in graph[current_node].items():\n",
    "            distance = current_distance + weight\n",
    "\n",
    "            if distance < distances[neighbor]:\n",
    "                distances[neighbor] = distance\n",
    "                heapq.heappush(queue, (distance, neighbor))\n",
    "                shortest_path[neighbor] = current_node\n",
    "\n",
    "    path, current = [], end\n",
    "    while current in shortest_path:\n",
    "        path.insert(0, current)\n",
    "        current = shortest_path[current]\n",
    "    if path:\n",
    "        path.insert(0, start)\n",
    "    return path, distances[end]\n",
    "\n",
    "graph = {\n",
    "    'DBN': {'PMB': 89, 'RBY': 112},\n",
    "    'PMB': {'DBN': 89, 'RBY': 41, 'HMT': 210},\n",
    "    'RBY': {'DBN': 112, 'PMB': 41, 'HMT': 100, 'VRT': 106},\n",
    "    'HMT': {'PMB': 210, 'RBY': 100, 'JHB': 70},\n",
    "    'VRT': {'RBY': 106, 'JHB': 106},\n",
    "    'JHB': {'HMT': 70, 'VRT': 106}\n",
    "}\n",
    "\n",
    "start = 'DBN'\n",
    "end = 'JHB'\n",
    "path, cost = dijkstra(graph, start, end)\n",
    "\n",
    "print(f\"The shortest path from {start} to {end} is: {' -> '.join(path)} with a cost of {cost}\")\n"
   ]
  },
  {
   "cell_type": "markdown",
   "id": "ad5df7ed-b7f6-41a8-b4e2-ea6da661e8ce",
   "metadata": {},
   "source": [
    "## Explanation:\n",
    "- The graph is represented as a dictionary where each key is a node, and the values are dictionaries of adjacent nodes with their respective distances.\n",
    "- The dijkstra function uses a priority queue (min-heap) to efficiently get the node with the smallest distance.\n",
    "- The distances dictionary keeps track of the minimum distance to each node from the start node.\n",
    "- The shortest_path dictionary records the path taken to reach each node.\n",
    "- The final path and its cost are printed out."
   ]
  },
  {
   "cell_type": "code",
   "execution_count": 2,
   "id": "c826cc7f-3558-487e-b0ec-45d58ac5daa1",
   "metadata": {},
   "outputs": [
    {
     "data": {
      "text/plain": [
       "'C:\\\\Users\\\\USER\\\\Technical Programming 2.Group Work'"
      ]
     },
     "execution_count": 2,
     "metadata": {},
     "output_type": "execute_result"
    }
   ],
   "source": [
    "pwd\n"
   ]
  },
  {
   "cell_type": "code",
   "execution_count": null,
   "id": "41a8665b-447a-48b5-ad1b-2081a67b881b",
   "metadata": {},
   "outputs": [],
   "source": []
  }
 ],
 "metadata": {
  "kernelspec": {
   "display_name": "Python 3 (ipykernel)",
   "language": "python",
   "name": "python3"
  },
  "language_info": {
   "codemirror_mode": {
    "name": "ipython",
    "version": 3
   },
   "file_extension": ".py",
   "mimetype": "text/x-python",
   "name": "python",
   "nbconvert_exporter": "python",
   "pygments_lexer": "ipython3",
   "version": "3.11.7"
  },
  "widgets": {
   "application/vnd.jupyter.widget-state+json": {
    "state": {},
    "version_major": 2,
    "version_minor": 0
   }
  }
 },
 "nbformat": 4,
 "nbformat_minor": 5
}
